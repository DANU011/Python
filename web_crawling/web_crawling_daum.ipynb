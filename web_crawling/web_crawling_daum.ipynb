{
 "cells": [
  {
   "attachments": {},
   "cell_type": "markdown",
   "metadata": {},
   "source": [
    "# web_crwaling"
   ]
  },
  {
   "cell_type": "code",
   "execution_count": 46,
   "metadata": {},
   "outputs": [],
   "source": [
    "import requests\n",
    "from bs4 import BeautifulSoup\n",
    "\n",
    "url = 'https://news.daum.net/'\n",
    "response = requests.get(url)\n",
    "soup = BeautifulSoup(response.text, 'html.parser')\n",
    "\n",
    "# 태그명이 'strong'인 태그들 중에서 class 속성값이 'tit_g'인 태그를 모두 가져옴\n",
    "title_tags = soup.select('strong.tit_g')\n",
    "\n",
    "with open('news_titles.txt', 'w', encoding='utf-8') as f:\n",
    "    for title in title_tags:\n",
    "        # 태그 내에 있는 텍스트와 href 속성값을 파일에 저장\n",
    "        f.write(title.text.strip() + '\\n')\n",
    "        f.write(title.a['href'] + '\\n')"
   ]
  }
 ],
 "metadata": {
  "kernelspec": {
   "display_name": "Python 3",
   "language": "python",
   "name": "python3"
  },
  "language_info": {
   "codemirror_mode": {
    "name": "ipython",
    "version": 3
   },
   "file_extension": ".py",
   "mimetype": "text/x-python",
   "name": "python",
   "nbconvert_exporter": "python",
   "pygments_lexer": "ipython3",
   "version": "3.10.10"
  },
  "orig_nbformat": 4
 },
 "nbformat": 4,
 "nbformat_minor": 2
}
